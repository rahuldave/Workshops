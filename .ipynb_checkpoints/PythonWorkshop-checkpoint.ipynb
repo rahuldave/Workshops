{
  "nbformat": 4,
  "nbformat_minor": 0,
  "metadata": {
    "colab": {
      "name": "PythonWorkshop.ipynb",
      "provenance": [],
      "collapsed_sections": []
    },
    "kernelspec": {
      "name": "python3",
      "display_name": "Python 3"
    },
    "language_info": {
      "name": "python"
    }
  },
  "cells": [
    {
      "cell_type": "markdown",
      "metadata": {
        "id": "4A7IZqAlgwIH"
      },
      "source": [
        "## Getting Started\n",
        "\n",
        "Lets start at the very beginning. You can use Python as a calculator. This gives you an idea of how to do arithmetic (and what the arithmetic operators are) in Python."
      ]
    },
    {
      "cell_type": "markdown",
      "metadata": {
        "id": "F0rZHyfEgc20"
      },
      "source": [
        "![](https://github.com/univai-pyprep-c1/BasicPython/raw/9a66b164175e3032fb88db4112754c1cb07ac4d8//getting_started.slides.dir/8.png)"
      ]
    },
    {
      "cell_type": "code",
      "metadata": {
        "colab": {
          "base_uri": "https://localhost:8080/"
        },
        "id": "siqC1BNaggkD",
        "outputId": "4d2b00bf-b5c1-4160-a7e0-10deced5bd2b"
      },
      "source": [
        "1 + 1"
      ],
      "execution_count": null,
      "outputs": [
        {
          "output_type": "execute_result",
          "data": {
            "text/plain": [
              "2"
            ]
          },
          "metadata": {},
          "execution_count": 1
        }
      ]
    },
    {
      "cell_type": "code",
      "metadata": {
        "colab": {
          "base_uri": "https://localhost:8080/"
        },
        "id": "WWns1uqOhH-L",
        "outputId": "0fc197c2-e463-4d11-f213-c68f8a323c7f"
      },
      "source": [
        "2**10"
      ],
      "execution_count": null,
      "outputs": [
        {
          "output_type": "execute_result",
          "data": {
            "text/plain": [
              "1024"
            ]
          },
          "metadata": {},
          "execution_count": 2
        }
      ]
    },
    {
      "cell_type": "code",
      "metadata": {
        "colab": {
          "base_uri": "https://localhost:8080/"
        },
        "id": "_9OTo_JWhKZx",
        "outputId": "9776ff9d-d782-4733-c6ec-84a687532b7b"
      },
      "source": [
        "5/2"
      ],
      "execution_count": null,
      "outputs": [
        {
          "output_type": "execute_result",
          "data": {
            "text/plain": [
              "2.5"
            ]
          },
          "metadata": {},
          "execution_count": 3
        }
      ]
    },
    {
      "cell_type": "code",
      "metadata": {
        "colab": {
          "base_uri": "https://localhost:8080/"
        },
        "id": "yyOpHZluhLrN",
        "outputId": "0077e001-d8d0-4388-8e8c-4c9b98b1c3c4"
      },
      "source": [
        "5//2"
      ],
      "execution_count": null,
      "outputs": [
        {
          "output_type": "execute_result",
          "data": {
            "text/plain": [
              "2"
            ]
          },
          "metadata": {},
          "execution_count": 4
        }
      ]
    },
    {
      "cell_type": "markdown",
      "metadata": {
        "id": "hIubnDszhNCF"
      },
      "source": [
        "### Variables\n",
        "\n",
        "Variables are labels for values\n",
        "\n",
        "- Start with a letter or underscore\n",
        "- Can contain only alpha-numeric characters and underscore\n",
        "- Are case sensitive"
      ]
    },
    {
      "cell_type": "code",
      "metadata": {
        "colab": {
          "base_uri": "https://localhost:8080/"
        },
        "id": "RvjT6_VchV9A",
        "outputId": "1d1d9075-a487-451a-cd4a-c62d5e072a35"
      },
      "source": [
        "# CANT DO THIS 9variable = \"hello\"\n",
        "# print 9variable\n",
        "\n",
        "Var = \"hello\"\n",
        "#print (var) # will give an error\n",
        "print (Var)"
      ],
      "execution_count": null,
      "outputs": [
        {
          "output_type": "stream",
          "name": "stdout",
          "text": [
            "hello\n"
          ]
        }
      ]
    },
    {
      "cell_type": "markdown",
      "metadata": {
        "id": "znklPOb_hxSJ"
      },
      "source": [
        "What happened above? In the computer's memory, a location was found, and then filled with the word \"hello\". Then a variable Var was created and was used to label this memory location.\n",
        "\n",
        "![](https://github.com/univai-pyprep-c1/BasicPython/raw/9a66b164175e3032fb88db4112754c1cb07ac4d8//images/labelmem.jpg)\n",
        "\n",
        "A variable is literally a label. You can think of it as a post-it, or sticky note, or a pointer. Do not think of it as a box in which a value is stored.\n",
        "\n",
        "Variables point to values that can be of multiple types. See below:"
      ]
    },
    {
      "cell_type": "code",
      "metadata": {
        "colab": {
          "base_uri": "https://localhost:8080/"
        },
        "id": "40Uwt7THhsy1",
        "outputId": "d24f0df9-abde-415d-bfb4-1992f2bf6e64"
      },
      "source": [
        "var = 7\n",
        "print (var, type(var))\n",
        "var = 7.01\n",
        "print (var, type(var))\n",
        "var = \"Hello World!\"\n",
        "print (var, type(var))\n",
        "var = True\n",
        "print (var, type(var))"
      ],
      "execution_count": null,
      "outputs": [
        {
          "output_type": "stream",
          "name": "stdout",
          "text": [
            "7 <class 'int'>\n",
            "7.01 <class 'float'>\n",
            "Hello World! <class 'str'>\n",
            "True <class 'bool'>\n"
          ]
        }
      ]
    },
    {
      "cell_type": "markdown",
      "metadata": {
        "id": "D_Br-QKdikLB"
      },
      "source": [
        "In the above, we just take the variable var and point it to different pieces of memory holding different values. This is perhaps more clear from a diagram.\n",
        "\n",
        "![](https://github.com/univai-pyprep-c1/BasicPython/raw/9a66b164175e3032fb88db4112754c1cb07ac4d8//images/labelmemmany.jpg)"
      ]
    },
    {
      "cell_type": "markdown",
      "metadata": {
        "id": "nrjc0oIHizIv"
      },
      "source": [
        "There are comparison operators, which can be used to make decisions:"
      ]
    },
    {
      "cell_type": "code",
      "metadata": {
        "colab": {
          "base_uri": "https://localhost:8080/"
        },
        "id": "H7alzW88igui",
        "outputId": "f2acfd80-3053-4c2a-820b-cb04377821c8"
      },
      "source": [
        "a = \"hgi\"\n",
        "b = \"hello\"\n",
        "c = \"hi\"\n",
        "d = \"hello\"\n",
        "print (a==c)\n",
        "print (b==d)\n",
        "var1 = 5\n",
        "var2 = 3\n",
        "print (var1 < var2)"
      ],
      "execution_count": null,
      "outputs": [
        {
          "output_type": "stream",
          "name": "stdout",
          "text": [
            "False\n",
            "True\n",
            "False\n"
          ]
        }
      ]
    },
    {
      "cell_type": "markdown",
      "metadata": {
        "id": "IrYxzwOJjDAU"
      },
      "source": [
        "The first comparison compares the contents of the memory for a and c and finds that both are different, giving us False. Conversely, the second comparison gives us True. We can utilize such comparisons in \"decision statements\". The third is a numerical comparison. The fact that these comparisons give us a boolean value can be used in the decision-making:"
      ]
    },
    {
      "cell_type": "code",
      "metadata": {
        "colab": {
          "base_uri": "https://localhost:8080/"
        },
        "id": "X-i2giKai-Y7",
        "outputId": "5c532b0d-e05d-4e90-9f1f-2e7227be272a"
      },
      "source": [
        "#Simple If conditions\n",
        "var1 = 5\n",
        "var2 = 10\n",
        "\n",
        "if var1 == var2:\n",
        "    print(\"The values are equal\")\n",
        "if var1 < var2:\n",
        "    print(\"First variable is lesser than the second variable\")\n",
        "if var1 > var2:\n",
        "    print(\"Second variable is lesser than the first variable\")"
      ],
      "execution_count": null,
      "outputs": [
        {
          "output_type": "stream",
          "name": "stdout",
          "text": [
            "First variable is lesser than the second variable\n"
          ]
        }
      ]
    },
    {
      "cell_type": "markdown",
      "metadata": {
        "id": "8rvW-j1QjYtU"
      },
      "source": [
        "Notice how python dispenses with brackets, replacing them by a colon and an indented next line. The indentation tells us that the code below runs when the condition holds. Python uses this colon-indentation for many things, such as for loops for iteration and loops in general, for conditionals, for function and class definition, etc.\n",
        "\n",
        "This conditional is such a common idiom that there is a better way to write it."
      ]
    },
    {
      "cell_type": "code",
      "metadata": {
        "colab": {
          "base_uri": "https://localhost:8080/"
        },
        "id": "kS9VtABSjUiE",
        "outputId": "1f7f74e8-ce71-4b12-aad0-3df2e616d2ad"
      },
      "source": [
        "#An alternative way to code the previous (If-Else)\n",
        "var1 = 5\n",
        "var2 = 10\n",
        "\n",
        "if (var1 == var2):\n",
        "    print(\"The values are equal\")\n",
        "elif (var1 < var2):\n",
        "    print(\"First variable is lesser than the second variable\")  \n",
        "else:\n",
        "    print(\"Second variable is lesser than the first variable\")"
      ],
      "execution_count": null,
      "outputs": [
        {
          "output_type": "stream",
          "name": "stdout",
          "text": [
            "First variable is lesser than the second variable\n"
          ]
        }
      ]
    },
    {
      "cell_type": "markdown",
      "metadata": {
        "id": "927rJoinjjun"
      },
      "source": [
        "## Functions\n",
        "\n",
        "A function is a set of statements that take inputs, do some specific computation and produces output.\n",
        "\n",
        "There are many ways to define functions:\n",
        "\n",
        "- Functions can be built-in to python, or imported from an existing Python Library\n",
        "- A function can be user defined\n",
        "- A function can be anonymous\n",
        "- functions can belong to objects. More on this later.\n",
        "\n",
        "properties of functions:\n",
        "\n",
        "- A function can be called from other functions\n",
        "- Can return data\n",
        "\n",
        "![](https://github.com/univai-pyprep-c1/BasicPython/raw/9a66b164175e3032fb88db4112754c1cb07ac4d8//functions.slides.dir/2.png)"
      ]
    },
    {
      "cell_type": "code",
      "metadata": {
        "colab": {
          "base_uri": "https://localhost:8080/"
        },
        "id": "zKtATFxFkJ4m",
        "outputId": "a0b84532-1f20-4f78-a419-1c786ad95183"
      },
      "source": [
        "# Built-in functions\n",
        "\n",
        "var1 = -15\n",
        "abs(var1)"
      ],
      "execution_count": null,
      "outputs": [
        {
          "output_type": "execute_result",
          "data": {
            "text/plain": [
              "15"
            ]
          },
          "metadata": {},
          "execution_count": 11
        }
      ]
    },
    {
      "cell_type": "markdown",
      "metadata": {
        "id": "B92MLiNpkSou"
      },
      "source": [
        "Here are two different ways of importing from a module, which is a library of python functions:"
      ]
    },
    {
      "cell_type": "code",
      "metadata": {
        "colab": {
          "base_uri": "https://localhost:8080/"
        },
        "id": "x6RN4wQBkQIB",
        "outputId": "4915c52c-e590-4ca8-ef4b-cf1361277e75"
      },
      "source": [
        "from math import sqrt\n",
        "sqrt(4)"
      ],
      "execution_count": null,
      "outputs": [
        {
          "output_type": "execute_result",
          "data": {
            "text/plain": [
              "2.0"
            ]
          },
          "metadata": {},
          "execution_count": 12
        }
      ]
    },
    {
      "cell_type": "code",
      "metadata": {
        "colab": {
          "base_uri": "https://localhost:8080/"
        },
        "id": "UgFRAMpmkWPh",
        "outputId": "577bf8c0-ab3e-45fb-aee5-2cebd0813d40"
      },
      "source": [
        "import os\n",
        "os.cpu_count()"
      ],
      "execution_count": null,
      "outputs": [
        {
          "output_type": "execute_result",
          "data": {
            "text/plain": [
              "2"
            ]
          },
          "metadata": {},
          "execution_count": 13
        }
      ]
    },
    {
      "cell_type": "markdown",
      "metadata": {
        "id": "OE7dX2nlkdWc"
      },
      "source": [
        "### Defining your own functions\n",
        "\n",
        "![](https://github.com/univai-pyprep-c1/BasicPython/raw/9a66b164175e3032fb88db4112754c1cb07ac4d8//functions.slides.dir/3.png)\n",
        "\n",
        "- You can take a number of arguments as input with varying data types.\n",
        "- The arguments can optionally have default values which are used in case of no values passed to the function."
      ]
    },
    {
      "cell_type": "code",
      "metadata": {
        "colab": {
          "base_uri": "https://localhost:8080/"
        },
        "id": "SnlV7-vIkX6u",
        "outputId": "7d54e8fd-ba05-441b-d311-bf1affb1297d"
      },
      "source": [
        "# User-defined function with one argument\n",
        "\n",
        "def function_name1(var1):\n",
        "    var2 = 10\n",
        "    x = var1 + var2\n",
        "    return x\n",
        "\n",
        "var1 = 6\n",
        "var2 = function_name1(var1)\n",
        "print (var2)"
      ],
      "execution_count": null,
      "outputs": [
        {
          "output_type": "stream",
          "name": "stdout",
          "text": [
            "16\n"
          ]
        }
      ]
    },
    {
      "cell_type": "code",
      "metadata": {
        "colab": {
          "base_uri": "https://localhost:8080/"
        },
        "id": "hUbbi0rokw13",
        "outputId": "8f7b1878-5ade-4af5-a244-1615608027ec"
      },
      "source": [
        "#User defined function with 2 arguments, where the second one is a list with default values.\n",
        "\n",
        "def function_name2(var2, l1=[1,2,3,4]):\n",
        "    l2 = []\n",
        "    for i in l1:\n",
        "        l2.append(var2+i)\n",
        "    return l2\n",
        "\n",
        "var2 = 6\n",
        "l = function_name2(var2)\n",
        "print (\"This is the list that has been returned \", l)"
      ],
      "execution_count": null,
      "outputs": [
        {
          "output_type": "stream",
          "name": "stdout",
          "text": [
            "This is the list that has been returned  [7, 8, 9, 10]\n"
          ]
        }
      ]
    },
    {
      "cell_type": "code",
      "metadata": {
        "colab": {
          "base_uri": "https://localhost:8080/"
        },
        "id": "z1HwYKp5k3F9",
        "outputId": "5c12aad6-0fbe-4032-8100-fba1c9596960"
      },
      "source": [
        "function_name2(var2, [0,0,0,0])"
      ],
      "execution_count": null,
      "outputs": [
        {
          "output_type": "execute_result",
          "data": {
            "text/plain": [
              "[6, 6, 6, 6]"
            ]
          },
          "metadata": {},
          "execution_count": 16
        }
      ]
    },
    {
      "cell_type": "code",
      "metadata": {
        "colab": {
          "base_uri": "https://localhost:8080/"
        },
        "id": "KF7zkVuDk5pn",
        "outputId": "143912eb-7ccf-46e0-9360-f2133af83c6a"
      },
      "source": [
        "function_name2(var2, l1=[0,0,0,0])"
      ],
      "execution_count": null,
      "outputs": [
        {
          "output_type": "execute_result",
          "data": {
            "text/plain": [
              "[6, 6, 6, 6]"
            ]
          },
          "metadata": {},
          "execution_count": 17
        }
      ]
    },
    {
      "cell_type": "markdown",
      "metadata": {
        "id": "y2OGbiRVlFJu"
      },
      "source": [
        "Functions may also be defined using the so-called lambda or anonymous function, in which functions are then assigned to variables:"
      ]
    },
    {
      "cell_type": "code",
      "metadata": {
        "id": "5Glfi-Fhk88K"
      },
      "source": [
        "square = lambda x: x*x\n",
        "affine = lambda a,b,x: a+b*x"
      ],
      "execution_count": null,
      "outputs": []
    },
    {
      "cell_type": "markdown",
      "metadata": {
        "id": "6edDFdpNlLL4"
      },
      "source": [
        "These are particularly useful for math where most functions are algebraic 1-liners"
      ]
    },
    {
      "cell_type": "code",
      "metadata": {
        "colab": {
          "base_uri": "https://localhost:8080/"
        },
        "id": "_U3cH7dZlNyP",
        "outputId": "67b7615c-8639-4ec8-9cd3-b77948a32925"
      },
      "source": [
        "square(5)"
      ],
      "execution_count": null,
      "outputs": [
        {
          "output_type": "execute_result",
          "data": {
            "text/plain": [
              "25"
            ]
          },
          "metadata": {},
          "execution_count": 19
        }
      ]
    },
    {
      "cell_type": "code",
      "metadata": {
        "colab": {
          "base_uri": "https://localhost:8080/"
        },
        "id": "NIdPSk8hlRH8",
        "outputId": "b08f3443-a199-4ca4-eb8b-e912a6392cbb"
      },
      "source": [
        "affine(1,2,5)"
      ],
      "execution_count": null,
      "outputs": [
        {
          "output_type": "execute_result",
          "data": {
            "text/plain": [
              "11"
            ]
          },
          "metadata": {},
          "execution_count": 20
        }
      ]
    },
    {
      "cell_type": "markdown",
      "metadata": {
        "id": "ne9EYCuDlYCO"
      },
      "source": [
        "![](https://github.com/univai-pyprep-c1/BasicPython/raw/9a66b164175e3032fb88db4112754c1cb07ac4d8//functions.slides.dir/7.png)\n",
        "\n",
        "Scope of a variable is the portion of a program where the variable is recognized. Parameters and variables defined inside a function are not visible from outside. Hence, they have a **local scope**.\n",
        "\n",
        "Lifetime of a variable is the period throughout which the variable exits in the memory. The lifetime of variables inside a function is as long as the function executes.\n",
        "\n",
        "They are destroyed once we return from the function. Hence, a function does not remember the value of a variable from its previous calls.\n",
        "\n",
        "The scope of this jupyter notebook, or in a python file, is the **global scope**. Variables defined here exist through the lifetime of the python program."
      ]
    },
    {
      "cell_type": "code",
      "metadata": {
        "colab": {
          "base_uri": "https://localhost:8080/"
        },
        "id": "hZHdtYu0lTIb",
        "outputId": "b6e1729f-05eb-4195-dc5d-fad5fcec60aa"
      },
      "source": [
        "def my_func():\n",
        "    x = 10\n",
        "    print(\"Value inside function:\",x)\n",
        "\n",
        "x = 20\n",
        "my_func()\n",
        "print(\"Value outside function:\",x)"
      ],
      "execution_count": null,
      "outputs": [
        {
          "output_type": "stream",
          "name": "stdout",
          "text": [
            "Value inside function: 10\n",
            "Value outside function: 20\n"
          ]
        }
      ]
    },
    {
      "cell_type": "markdown",
      "metadata": {
        "id": "bmyWGBnWp7OM"
      },
      "source": [
        "## EXERCISE 1: A Simple Calculator\n",
        "\n",
        "Here is a fun little calculator which exercises what you have learnt so far.\n",
        "\n",
        "It has only 4 operations - Addition, Subtraction, Multiplication and Divison\n",
        "\n",
        "Notice the use of no-operation `pass`. It allows us to incrementally code by doing nothing to start, and put in functionality over time."
      ]
    },
    {
      "cell_type": "code",
      "metadata": {
        "colab": {
          "base_uri": "https://localhost:8080/"
        },
        "id": "XiVTLZDnqB5I",
        "outputId": "6d7152b9-88fd-4429-d681-d961a143e8b8"
      },
      "source": [
        "print(\"Select operation\\n\")\n",
        "print(\"1.Addition\")\n",
        "print(\"2.Subtraction\")\n",
        "print(\"3.Multiplication\")\n",
        "print(\"4.Division\")\n",
        "\n",
        "# Something NEW: Take input from the user \n",
        "choice = input(\"\\nEnter choice(1/2/3/4): \")\n",
        "\n",
        "# We convert the input to a floating-pount(or real) number.\n",
        "\n",
        "num1 = float(input(\"\\nEnter first number: \"))\n",
        "num2 = float(input(\"\\nEnter second number: \"))\n",
        "\n",
        "if choice == '1':\n",
        "    # your code here\n",
        "    pass\n",
        "elif choice == '2':\n",
        "    # your code here\n",
        "    pass\n",
        "elif choice == '3':\n",
        "    # your code here\n",
        "    pass\n",
        "elif choice == '4': # could use else \n",
        "    if(num2==0):\n",
        "        print (\"Invalid input\")\n",
        "    else:\n",
        "        print(num1,\"/\",num2,\"=\", num1/num2)"
      ],
      "execution_count": null,
      "outputs": [
        {
          "name": "stdout",
          "output_type": "stream",
          "text": [
            "Select operation\n",
            "\n",
            "1.Addition\n",
            "2.Subtraction\n",
            "3.Multiplication\n",
            "4.Division\n",
            "\n",
            "Enter choice(1/2/3/4): 1\n",
            "\n",
            "Enter first number: 1\n",
            "\n",
            "Enter second number: 2\n"
          ]
        }
      ]
    },
    {
      "cell_type": "markdown",
      "metadata": {
        "id": "7mIkf6kRlvy5"
      },
      "source": [
        "## Listiness.. or things that behave like lists\n",
        "\n",
        "Python puts great stock in the idea of having protocols or mechanisms of behavior, and identifying cases in which this behavior is common.\n",
        "\n",
        "One of the most important ideas is that of things that behave like a list of items.\n",
        "\n",
        "These include lists, strings, and files. Many other data structures in Python are made to behave like lists as well, so that their content can be iterated through, in addition to their own native behavior.\n",
        "\n",
        "![](https://github.com/univai-pyprep-c1/BasicPython/raw/9a66b164175e3032fb88db4112754c1cb07ac4d8//listiness.slides.dir/3.png)"
      ]
    },
    {
      "cell_type": "code",
      "metadata": {
        "colab": {
          "base_uri": "https://localhost:8080/"
        },
        "id": "vXqQam55l9JI",
        "outputId": "a80de3ee-4a5a-4500-f4d9-d714870b5e65"
      },
      "source": [
        "# CREATING A LIST\n",
        "\n",
        "# A list is made from zero or more elements, separated by commas, and surrounded by square\n",
        "empty_list = []\n",
        "working_days = ['Monday', 'Tuesday', 'Wednesday', 'Thursday', 'Friday']\n",
        "print (working_days[2])"
      ],
      "execution_count": null,
      "outputs": [
        {
          "output_type": "stream",
          "name": "stdout",
          "text": [
            "Wednesday\n"
          ]
        }
      ]
    },
    {
      "cell_type": "markdown",
      "metadata": {
        "id": "MLZNK3_Rmao4"
      },
      "source": [
        "![](https://github.com/univai-pyprep-c1/BasicPython/raw/9a66b164175e3032fb88db4112754c1cb07ac4d8//listiness.slides.dir/4.png)"
      ]
    },
    {
      "cell_type": "code",
      "metadata": {
        "colab": {
          "base_uri": "https://localhost:8080/"
        },
        "id": "sKftKsU5mKS8",
        "outputId": "42abc8ff-52b4-42d5-c1cf-5e8d1613ba64"
      },
      "source": [
        "lst = list(range(1,5))\n",
        "print(lst)\n",
        "print (lst[-1])"
      ],
      "execution_count": null,
      "outputs": [
        {
          "output_type": "stream",
          "name": "stdout",
          "text": [
            "[1, 2, 3, 4]\n",
            "4\n"
          ]
        }
      ]
    },
    {
      "cell_type": "code",
      "metadata": {
        "colab": {
          "base_uri": "https://localhost:8080/"
        },
        "id": "czQ1Vd07mhQr",
        "outputId": "a595ce2c-d2f0-4447-f256-1ff9fda91fa1"
      },
      "source": [
        "lst[0:3] # from 0, dont include whats at index 3"
      ],
      "execution_count": null,
      "outputs": [
        {
          "output_type": "execute_result",
          "data": {
            "text/plain": [
              "[1, 2, 3]"
            ]
          },
          "metadata": {},
          "execution_count": 24
        }
      ]
    },
    {
      "cell_type": "code",
      "metadata": {
        "colab": {
          "base_uri": "https://localhost:8080/"
        },
        "id": "tXi6tdKGmkNH",
        "outputId": "ac7b93e1-276e-4e54-b60f-fa15cd9caa1a"
      },
      "source": [
        "lst[-3:-1]"
      ],
      "execution_count": null,
      "outputs": [
        {
          "output_type": "execute_result",
          "data": {
            "text/plain": [
              "[2, 3]"
            ]
          },
          "metadata": {},
          "execution_count": 25
        }
      ]
    },
    {
      "cell_type": "code",
      "metadata": {
        "colab": {
          "base_uri": "https://localhost:8080/"
        },
        "id": "Ed82ITi8mpJ-",
        "outputId": "8570bdf0-2133-4604-f6d3-8e255cc36377"
      },
      "source": [
        "# A list can have another list, or anything else as its element\n",
        "numbers = [1, 2, 3, 4, 5]\n",
        "courses = ['PP', 'BDA', \"USP\", 'WTA'] \n",
        "new_list = [numbers, courses, '6th sem'] \n",
        "print (new_list, len(new_list))"
      ],
      "execution_count": null,
      "outputs": [
        {
          "output_type": "stream",
          "name": "stdout",
          "text": [
            "[[1, 2, 3, 4, 5], ['PP', 'BDA', 'USP', 'WTA'], '6th sem'] 3\n"
          ]
        }
      ]
    },
    {
      "cell_type": "code",
      "metadata": {
        "colab": {
          "base_uri": "https://localhost:8080/"
        },
        "id": "S3n0bTcUmt34",
        "outputId": "b06b407b-621c-4c15-9c0a-0a81c4627bf6"
      },
      "source": [
        "# Membership (using 'in' operator)\n",
        "'PP' in courses"
      ],
      "execution_count": null,
      "outputs": [
        {
          "output_type": "execute_result",
          "data": {
            "text/plain": [
              "True"
            ]
          },
          "metadata": {},
          "execution_count": 28
        }
      ]
    },
    {
      "cell_type": "code",
      "metadata": {
        "colab": {
          "base_uri": "https://localhost:8080/"
        },
        "id": "vZuQnv1TmyfA",
        "outputId": "d5cca06b-5385-46e7-b040-081bb0495619"
      },
      "source": [
        "# append(x) - Adds a new element 'x' at the end of the list\n",
        "alist = ['a', 'b', 'c'] \n",
        "alist.append('d') \n",
        "print (alist)"
      ],
      "execution_count": null,
      "outputs": [
        {
          "output_type": "stream",
          "name": "stdout",
          "text": [
            "['a', 'b', 'c', 'd']\n"
          ]
        }
      ]
    },
    {
      "cell_type": "markdown",
      "metadata": {
        "id": "MerhRza8nIoG"
      },
      "source": [
        "Adding lists produces a bigger list! This is an example of a programming technique called operator overloading"
      ]
    },
    {
      "cell_type": "code",
      "metadata": {
        "colab": {
          "base_uri": "https://localhost:8080/"
        },
        "id": "x7v1WGqVnCr9",
        "outputId": "e730d76a-20bf-4d45-9182-77dcab87f37b"
      },
      "source": [
        "first_list = [1, 2, 3]\n",
        "second_list = ['a', 'b', 'c']\n",
        "first_list + second_list"
      ],
      "execution_count": null,
      "outputs": [
        {
          "output_type": "execute_result",
          "data": {
            "text/plain": [
              "[1, 2, 3, 'a', 'b', 'c']"
            ]
          },
          "metadata": {},
          "execution_count": 30
        }
      ]
    },
    {
      "cell_type": "markdown",
      "metadata": {
        "id": "FLKWEot9nNFZ"
      },
      "source": [
        "## Iteration\n",
        "\n",
        "for loops are fundamental in any language to go over lists.\n",
        "\n"
      ]
    },
    {
      "cell_type": "code",
      "metadata": {
        "colab": {
          "base_uri": "https://localhost:8080/"
        },
        "id": "wwyBVIB_nHuM",
        "outputId": "b7a4e344-cd96-47e7-ee52-8d0ffe763ff1"
      },
      "source": [
        "num = [4, 7, 2, 6, 3, 9]\n",
        "for ele in num:\n",
        "    print(ele)"
      ],
      "execution_count": null,
      "outputs": [
        {
          "output_type": "stream",
          "name": "stdout",
          "text": [
            "4\n",
            "7\n",
            "2\n",
            "6\n",
            "3\n",
            "9\n"
          ]
        }
      ]
    },
    {
      "cell_type": "code",
      "metadata": {
        "colab": {
          "base_uri": "https://localhost:8080/"
        },
        "id": "qEPSTJTqnX90",
        "outputId": "25f213e2-2e1a-40a7-d639-20070c9f6b09"
      },
      "source": [
        "for ele in num:\n",
        "    if ele % 2 == 0: #even numbers only\n",
        "        print(ele)"
      ],
      "execution_count": null,
      "outputs": [
        {
          "output_type": "stream",
          "name": "stdout",
          "text": [
            "4\n",
            "2\n",
            "6\n"
          ]
        }
      ]
    },
    {
      "cell_type": "markdown",
      "metadata": {
        "id": "QqUiaw7Xneav"
      },
      "source": [
        "There is a short-cut iteration syntax called a list comprehension, often used to construct new lists"
      ]
    },
    {
      "cell_type": "code",
      "metadata": {
        "colab": {
          "base_uri": "https://localhost:8080/"
        },
        "id": "uCDuB1PvncOP",
        "outputId": "7bad03d8-f06d-4a84-d5fc-c19aa5204e21"
      },
      "source": [
        "list_with_same_as_num = [e for e in num]\n",
        "list_with_same_as_num"
      ],
      "execution_count": null,
      "outputs": [
        {
          "output_type": "execute_result",
          "data": {
            "text/plain": [
              "[4, 7, 2, 6, 3, 9]"
            ]
          },
          "metadata": {},
          "execution_count": 33
        }
      ]
    },
    {
      "cell_type": "code",
      "metadata": {
        "colab": {
          "base_uri": "https://localhost:8080/"
        },
        "id": "iFlgf3MmnmN-",
        "outputId": "7642798e-536a-4529-c432-34ccedb466c1"
      },
      "source": [
        "squared_list = [e*e for e in num]\n",
        "squared_list"
      ],
      "execution_count": null,
      "outputs": [
        {
          "output_type": "execute_result",
          "data": {
            "text/plain": [
              "[16, 49, 4, 36, 9, 81]"
            ]
          },
          "metadata": {},
          "execution_count": 35
        }
      ]
    },
    {
      "cell_type": "code",
      "metadata": {
        "colab": {
          "base_uri": "https://localhost:8080/"
        },
        "id": "qrTcWIwgnib-",
        "outputId": "a5275655-25f9-439f-dd33-b63e38dd359e"
      },
      "source": [
        "list_with_evens = [e for e in num if e % 2 == 0]\n",
        "list_with_evens"
      ],
      "execution_count": null,
      "outputs": [
        {
          "output_type": "execute_result",
          "data": {
            "text/plain": [
              "[4, 2, 6]"
            ]
          },
          "metadata": {},
          "execution_count": 34
        }
      ]
    },
    {
      "cell_type": "markdown",
      "metadata": {
        "id": "W9SpEehsnlM8"
      },
      "source": [
        "### Strings\n",
        "\n",
        "Strings such as hello world in python behave just like lists, and a lot of what you learn about lists applies to them: they are iterable, and they have a length! But they have one critical additional property: they are immutable, that is they cant be changed!"
      ]
    },
    {
      "cell_type": "code",
      "metadata": {
        "colab": {
          "base_uri": "https://localhost:8080/"
        },
        "id": "EqdW1x9bnynG",
        "outputId": "fa56a468-42f6-43a2-e6c3-c501e2b7e70d"
      },
      "source": [
        "var = \"This is a string\"\n",
        "print (var, len(var))\n",
        "print (var[3]) # the s of This\n",
        "for char in var:\n",
        "    print(char)"
      ],
      "execution_count": null,
      "outputs": [
        {
          "output_type": "stream",
          "name": "stdout",
          "text": [
            "This is a string 16\n",
            "s\n",
            "T\n",
            "h\n",
            "i\n",
            "s\n",
            " \n",
            "i\n",
            "s\n",
            " \n",
            "a\n",
            " \n",
            "s\n",
            "t\n",
            "r\n",
            "i\n",
            "n\n",
            "g\n"
          ]
        }
      ]
    },
    {
      "cell_type": "code",
      "metadata": {
        "colab": {
          "base_uri": "https://localhost:8080/",
          "height": 198
        },
        "id": "vpcUBz3-n29I",
        "outputId": "51f9b16a-efb2-43eb-9737-743dbe504917"
      },
      "source": [
        "var[3] = \"t\" # this will fail because immutability"
      ],
      "execution_count": null,
      "outputs": [
        {
          "output_type": "error",
          "ename": "TypeError",
          "evalue": "ignored",
          "traceback": [
            "\u001b[0;31m---------------------------------------------------------------------------\u001b[0m",
            "\u001b[0;31mTypeError\u001b[0m                                 Traceback (most recent call last)",
            "\u001b[0;32m<ipython-input-37-afd63de1e61e>\u001b[0m in \u001b[0;36m<module>\u001b[0;34m()\u001b[0m\n\u001b[0;32m----> 1\u001b[0;31m \u001b[0mvar\u001b[0m\u001b[0;34m[\u001b[0m\u001b[0;36m3\u001b[0m\u001b[0;34m]\u001b[0m \u001b[0;34m=\u001b[0m \u001b[0;34m\"t\"\u001b[0m \u001b[0;31m# this will fail because immutability\u001b[0m\u001b[0;34m\u001b[0m\u001b[0;34m\u001b[0m\u001b[0m\n\u001b[0m",
            "\u001b[0;31mTypeError\u001b[0m: 'str' object does not support item assignment"
          ]
        }
      ]
    },
    {
      "cell_type": "code",
      "metadata": {
        "colab": {
          "base_uri": "https://localhost:8080/"
        },
        "id": "VBx5pYO9n5_b",
        "outputId": "e33968f7-ee21-4036-95eb-bb23faa09ec9"
      },
      "source": [
        "# String slicing\n",
        "print(var)\n",
        "print (var[6:])\n",
        "print (var[1:3])\n",
        "print (var[:-1])\n",
        "print (var[2:10:2]) #the last parameter is for chagning the step size"
      ],
      "execution_count": null,
      "outputs": [
        {
          "output_type": "stream",
          "name": "stdout",
          "text": [
            "This is a string\n",
            "s a string\n",
            "hi\n",
            "This is a strin\n",
            "i sa\n"
          ]
        }
      ]
    },
    {
      "cell_type": "markdown",
      "metadata": {
        "id": "zk7aypXSoCOJ"
      },
      "source": [
        "![](https://github.com/univai-pyprep-c1/BasicPython/raw/9a66b164175e3032fb88db4112754c1cb07ac4d8//listiness.slides.dir/7.png)\n",
        "\n",
        "### Files\n",
        "\n",
        "The built-in open() function creates a Python file object, which serves as a link to a file residing on your machine. After calling 'open()', strings of data can be transferred to and from the associated external file by calling the returned file object's methods.\n",
        "\n",
        "At this point, you can read data from the file as a whole (read(), or n bytes at a time, read(n). You can read a line at a time with readline(), and all the lines into a list of strings with readlines(). Similar methods exist for writing.\n",
        "\n",
        "You must close the file after you finish using it.\n",
        "\n",
        "![](https://github.com/univai-pyprep-c1/BasicPython/raw/9a66b164175e3032fb88db4112754c1cb07ac4d8//listiness.slides.dir/10.png)\n",
        "\n",
        "But as you might have expected, you can treat a file just like a list even more idiomatically, as we shall see."
      ]
    },
    {
      "cell_type": "code",
      "metadata": {
        "colab": {
          "base_uri": "https://localhost:8080/"
        },
        "id": "2tS9sm4Eobx1",
        "outputId": "14439a70-97b1-43a4-9157-b9a05adb7e15"
      },
      "source": [
        "!mkdir data; pushd data; wget https://raw.githubusercontent.com/univai-pyprep-c1/BasicPython/main/data/Julius%20Caesar.txt; popd"
      ],
      "execution_count": null,
      "outputs": [
        {
          "output_type": "stream",
          "name": "stdout",
          "text": [
            "/content/data /content\n",
            "--2021-11-21 03:55:30--  https://raw.githubusercontent.com/univai-pyprep-c1/BasicPython/main/data/Julius%20Caesar.txt\n",
            "Resolving raw.githubusercontent.com (raw.githubusercontent.com)... 185.199.108.133, 185.199.110.133, 185.199.111.133, ...\n",
            "Connecting to raw.githubusercontent.com (raw.githubusercontent.com)|185.199.108.133|:443... connected.\n",
            "HTTP request sent, awaiting response... 200 OK\n",
            "Length: 120873 (118K) [text/plain]\n",
            "Saving to: ‘Julius Caesar.txt’\n",
            "\n",
            "\rJulius Caesar.txt     0%[                    ]       0  --.-KB/s               \rJulius Caesar.txt   100%[===================>] 118.04K  --.-KB/s    in 0.02s   \n",
            "\n",
            "2021-11-21 03:55:30 (5.71 MB/s) - ‘Julius Caesar.txt’ saved [120873/120873]\n",
            "\n",
            "/content\n"
          ]
        }
      ]
    },
    {
      "cell_type": "code",
      "metadata": {
        "colab": {
          "base_uri": "https://localhost:8080/"
        },
        "id": "3K2UQWeqoA60",
        "outputId": "2a3897fb-6638-4c8c-b931-6099345e5a45"
      },
      "source": [
        "fd = open(\"data/Julius Caesar.txt\")\n",
        "counter = 0\n",
        "for line in fd:\n",
        "    if counter < 10: # print first 10 lines, there are lots!\n",
        "        print(\"<<\", line, \">>\")\n",
        "    counter = counter + 1 # also writeable as counter += 1\n",
        "fd.close()"
      ],
      "execution_count": null,
      "outputs": [
        {
          "output_type": "stream",
          "name": "stdout",
          "text": [
            "<< THE TRAGEDY OF JULIUS CAESAR\n",
            " >>\n",
            "<< \n",
            " >>\n",
            "<< \n",
            " >>\n",
            "<< by William Shakespeare\n",
            " >>\n",
            "<< \n",
            " >>\n",
            "<< \n",
            " >>\n",
            "<< Contents\n",
            " >>\n",
            "<< \n",
            " >>\n",
            "<< ACT I\n",
            " >>\n",
            "<< Scene I. Rome. A street.\n",
            " >>\n"
          ]
        }
      ]
    },
    {
      "cell_type": "markdown",
      "metadata": {
        "id": "tzPQVSS5oytQ"
      },
      "source": [
        "Notice that the newlines remain. You can use the string method strip to remove them. There are many such **methods**, which are functions that belong to strings, or in general, to \"objects\"."
      ]
    },
    {
      "cell_type": "code",
      "metadata": {
        "colab": {
          "base_uri": "https://localhost:8080/"
        },
        "id": "GCi3pOLaoo2p",
        "outputId": "416bf6f3-4754-4e08-a9f4-7968ff5079a8"
      },
      "source": [
        "fd = open(\"data/Julius Caesar.txt\")\n",
        "counter = 0\n",
        "for line in fd:\n",
        "    if counter < 10: # print first 10 lines\n",
        "        print(\"<<\", line.strip(), \">>\")\n",
        "    else:\n",
        "        break # break out of for loop\n",
        "    counter = counter + 1 # also writeable as counter += 1\n",
        "fd.close()\n",
        "print(counter)"
      ],
      "execution_count": null,
      "outputs": [
        {
          "output_type": "stream",
          "name": "stdout",
          "text": [
            "<< THE TRAGEDY OF JULIUS CAESAR >>\n",
            "<<  >>\n",
            "<<  >>\n",
            "<< by William Shakespeare >>\n",
            "<<  >>\n",
            "<<  >>\n",
            "<< Contents >>\n",
            "<<  >>\n",
            "<< ACT I >>\n",
            "<< Scene I. Rome. A street. >>\n",
            "10\n"
          ]
        }
      ]
    },
    {
      "cell_type": "markdown",
      "metadata": {
        "id": "LhdHzQZhpD5j"
      },
      "source": [
        "Above we added a `break` statement in the for loop which ended our iteration through the file (its the whole play!!!). You can use `readlines()` here but it will read the entire file into memory."
      ]
    },
    {
      "cell_type": "code",
      "metadata": {
        "colab": {
          "base_uri": "https://localhost:8080/"
        },
        "id": "Hcvi4Kpoo-Ou",
        "outputId": "d826e1a5-4571-4b0a-fa02-64ae06676cab"
      },
      "source": [
        "fd = open(\"data/Julius Caesar.txt\")\n",
        "lines = [line.strip() for line in fd.readlines()]\n",
        "fd.close()\n",
        "print(len(lines))"
      ],
      "execution_count": null,
      "outputs": [
        {
          "output_type": "stream",
          "name": "stdout",
          "text": [
            "4639\n"
          ]
        }
      ]
    },
    {
      "cell_type": "markdown",
      "metadata": {
        "id": "rzdMCkOBpMFx"
      },
      "source": [
        "### What about writing?\n",
        "\n",
        "Lets write the first ten lines out..."
      ]
    },
    {
      "cell_type": "code",
      "metadata": {
        "colab": {
          "base_uri": "https://localhost:8080/"
        },
        "id": "o9smIsSapKSy",
        "outputId": "6f1a0432-ee67-4064-dc9f-a8b086c6ce51"
      },
      "source": [
        "fd = open(\"data/Julius Caesar.txt\")\n",
        "fd2 = open(\"data/julfirst10.txt\", \"w\")\n",
        "counter = 0\n",
        "for line in fd:\n",
        "    if counter < 10: # print first 10 lines\n",
        "        print(\"<<\", line.strip(), \">>\")\n",
        "        fd2.write(line)\n",
        "    else:\n",
        "        break # break out of for loop\n",
        "    counter = counter + 1 # also writeable as counter += 1\n",
        "fd.close()\n",
        "fd2.close()\n",
        "print(counter)"
      ],
      "execution_count": null,
      "outputs": [
        {
          "output_type": "stream",
          "name": "stdout",
          "text": [
            "<< THE TRAGEDY OF JULIUS CAESAR >>\n",
            "<<  >>\n",
            "<<  >>\n",
            "<< by William Shakespeare >>\n",
            "<<  >>\n",
            "<<  >>\n",
            "<< Contents >>\n",
            "<<  >>\n",
            "<< ACT I >>\n",
            "<< Scene I. Rome. A street. >>\n",
            "10\n"
          ]
        }
      ]
    },
    {
      "cell_type": "markdown",
      "metadata": {
        "id": "LE-9eqnOqMYU"
      },
      "source": [
        "EXERCISE 2: Read a file and parse words from it\n",
        "\n",
        "Read Julius Caesar. Get each line. Remove newline characters from each line. Split the line to get the words from the line. Lowercase them. Print the first 1000 words, lowercased.\n",
        "\n",
        "Is this really a good way to get words. Can you suggest, a better way, at the cost of more memory?"
      ]
    },
    {
      "cell_type": "code",
      "metadata": {
        "colab": {
          "base_uri": "https://localhost:8080/"
        },
        "id": "wYKpT5bDpQmn",
        "outputId": "e88aebf2-0371-474a-a7ec-f626f46c441d"
      },
      "source": [
        "# your code here\n",
        "## Read a file, parse lines, and get all words\n",
        "\n",
        "# make a list with all words in documents\n",
        "# the words can occur more than once\n",
        "wordlist = []  \n",
        "fd = open(\"data/Julius Caesar.txt\")\n",
        "lines = fd.readlines()\n",
        "fd.close()\n",
        "# strip newline characters and other whitespace off the edges\n",
        "cleaned_lines = [line.strip() for line in lines] \n",
        "# make a list of lists. \n",
        "# each inner list if the list of words on that line\n",
        "list_of_lines_words = [line.split() for line in lines]\n",
        "# Take each list of words, and get all the words\n",
        "for lines_words in list_of_lines_words:\n",
        "    wordlist = wordlist + [l.lower() for l in lines_words] # update the wordlist using the new list.\n",
        "print(wordlist[:1000]) # first 1000 words"
      ],
      "execution_count": null,
      "outputs": [
        {
          "output_type": "stream",
          "name": "stdout",
          "text": [
            "['the', 'tragedy', 'of', 'julius', 'caesar', 'by', 'william', 'shakespeare', 'contents', 'act', 'i', 'scene', 'i.', 'rome.', 'a', 'street.', 'scene', 'ii.', 'the', 'same.', 'a', 'public', 'place.', 'scene', 'iii.', 'the', 'same.', 'a', 'street.', 'act', 'ii', 'scene', 'i.', 'rome.', 'brutusâ€™', 'orchard.', 'scene', 'ii.', 'a', 'room', 'in', 'caesarâ€™s', 'palace.', 'scene', 'iii.', 'a', 'street', 'near', 'the', 'capitol.', 'scene', 'iv.', 'another', 'part', 'of', 'the', 'same', 'street,', 'before', 'the', 'house', 'of', 'brutus.', 'act', 'iii', 'scene', 'i.', 'rome.', 'before', 'the', 'capitol;', 'the', 'senate', 'sitting.', 'scene', 'ii.', 'the', 'same.', 'the', 'forum.', 'scene', 'iii.', 'the', 'same.', 'a', 'street.', 'act', 'iv', 'scene', 'i.', 'a', 'room', 'in', 'antonyâ€™s', 'house.', 'scene', 'ii.', 'before', 'brutusâ€™', 'tent,', 'in', 'the', 'camp', 'near', 'sardis.', 'scene', 'iii.', 'within', 'the', 'tent', 'of', 'brutus.', 'act', 'v', 'scene', 'i.', 'the', 'plains', 'of', 'philippi.', 'scene', 'ii.', 'the', 'same.', 'the', 'field', 'of', 'battle.', 'scene', 'iii.', 'another', 'part', 'of', 'the', 'field.', 'scene', 'iv.', 'another', 'part', 'of', 'the', 'field.', 'scene', 'v.', 'another', 'part', 'of', 'the', 'field.', 'dramatis', 'personã¦', 'julius', 'caesar', 'octavius', 'caesar,', 'triumvir', 'after', 'his', 'death.', 'marcus', 'antonius,', 'â€\\x9d', 'â€\\x9d', 'â€\\x9d', 'm.', 'aemilius', 'lepidus,', 'â€\\x9d', 'â€\\x9d', 'â€\\x9d', 'cicero,', 'publius,', 'popilius', 'lena,', 'senators.', 'marcus', 'brutus,', 'conspirator', 'against', 'caesar.', 'cassius,', 'â€\\x9d', 'â€\\x9d', 'â€\\x9d', 'casca,', 'â€\\x9d', 'â€\\x9d', 'â€\\x9d', 'trebonius,', 'â€\\x9d', 'â€\\x9d', 'â€\\x9d', 'ligarius,â€\\x9d', 'â€\\x9d', 'â€\\x9d', 'decius', 'brutus,', 'â€\\x9d', 'â€\\x9d', 'â€\\x9d', 'metellus', 'cimber,', 'â€\\x9d', 'â€\\x9d', 'â€\\x9d', 'cinna,', 'â€\\x9d', 'â€\\x9d', 'â€\\x9d', 'flavius,', 'tribune', 'marullus,', 'tribune', 'artemidorus,', 'a', 'sophist', 'of', 'cnidos.', 'a', 'soothsayer', 'cinna,', 'a', 'poet.', 'another', 'poet.', 'lucilius,', 'titinius,', 'messala,', 'young', 'cato,', 'and', 'volumnius,', 'friends', 'to', 'brutus', 'and', 'cassius.', 'varro,', 'clitus,', 'claudius,', 'strato,', 'lucius,', 'dardanius,', 'servants', 'to', 'brutus', 'pindarus,', 'servant', 'to', 'cassius', 'calphurnia,', 'wife', 'to', 'caesar', 'portia,', 'wife', 'to', 'brutus', 'the', 'ghost', 'of', 'caesar', 'senators,', 'citizens,', 'soldiers,', 'commoners,', 'messengers,', 'and', 'servants.', 'scene:', 'rome,', 'the', 'conspiratorsâ€™', 'camp', 'near', 'sardis,', 'and', 'the', 'plains', 'of', 'philippi.', 'act', 'i', 'scene', 'i.', 'rome.', 'a', 'street.', 'enter', 'flavius,', 'marullus', 'and', 'a', 'throng', 'of', 'citizens.', 'flavius.', 'hence!', 'home,', 'you', 'idle', 'creatures,', 'get', 'you', 'home.', 'is', 'this', 'a', 'holiday?', 'what,', 'know', 'you', 'not,', 'being', 'mechanical,', 'you', 'ought', 'not', 'walk', 'upon', 'a', 'labouring', 'day', 'without', 'the', 'sign', 'of', 'your', 'profession?', 'speak,', 'what', 'trade', 'art', 'thou?', 'carpenter.', 'why,', 'sir,', 'a', 'carpenter.', 'marullus.', 'where', 'is', 'thy', 'leather', 'apron', 'and', 'thy', 'rule?', 'what', 'dost', 'thou', 'with', 'thy', 'best', 'apparel', 'on?', 'you,', 'sir,', 'what', 'trade', 'are', 'you?', 'cobbler.', 'truly,', 'sir,', 'in', 'respect', 'of', 'a', 'fine', 'workman,', 'i', 'am', 'but,', 'as', 'you', 'would', 'say,', 'a', 'cobbler.', 'marullus.', 'but', 'what', 'trade', 'art', 'thou?', 'answer', 'me', 'directly.', 'cobbler.', 'a', 'trade,', 'sir,', 'that', 'i', 'hope', 'i', 'may', 'use', 'with', 'a', 'safe', 'conscience,', 'which', 'is', 'indeed,', 'sir,', 'a', 'mender', 'of', 'bad', 'soles.', 'marullus.', 'what', 'trade,', 'thou', 'knave?', 'thou', 'naughty', 'knave,', 'what', 'trade?', 'cobbler.', 'nay,', 'i', 'beseech', 'you,', 'sir,', 'be', 'not', 'out', 'with', 'me;', 'yet,', 'if', 'you', 'be', 'out,', 'sir,', 'i', 'can', 'mend', 'you.', 'marullus.', 'what', 'meanâ€™st', 'thou', 'by', 'that?', 'mend', 'me,', 'thou', 'saucy', 'fellow!', 'cobbler.', 'why,', 'sir,', 'cobble', 'you.', 'flavius.', 'thou', 'art', 'a', 'cobbler,', 'art', 'thou?', 'cobbler.', 'truly,', 'sir,', 'all', 'that', 'i', 'live', 'by', 'is', 'with', 'the', 'awl;', 'i', 'meddle', 'with', 'no', 'tradesmanâ€™s', 'matters,', 'nor', 'womenâ€™s', 'matters,', 'but', 'withal', 'i', 'am', 'indeed,', 'sir,', 'a', 'surgeon', 'to', 'old', 'shoes:', 'when', 'they', 'are', 'in', 'great', 'danger,', 'i', 'recover', 'them.', 'as', 'proper', 'men', 'as', 'ever', 'trod', 'upon', 'neatâ€™s', 'leather', 'have', 'gone', 'upon', 'my', 'handiwork.', 'flavius.', 'but', 'wherefore', 'art', 'not', 'in', 'thy', 'shop', 'today?', 'why', 'dost', 'thou', 'lead', 'these', 'men', 'about', 'the', 'streets?', 'cobbler.', 'truly,', 'sir,', 'to', 'wear', 'out', 'their', 'shoes,', 'to', 'get', 'myself', 'into', 'more', 'work.', 'but', 'indeed,', 'sir,', 'we', 'make', 'holiday', 'to', 'see', 'caesar,', 'and', 'to', 'rejoice', 'in', 'his', 'triumph.', 'marullus.', 'wherefore', 'rejoice?', 'what', 'conquest', 'brings', 'he', 'home?', 'what', 'tributaries', 'follow', 'him', 'to', 'rome,', 'to', 'grace', 'in', 'captive', 'bonds', 'his', 'chariot', 'wheels?', 'you', 'blocks,', 'you', 'stones,', 'you', 'worse', 'than', 'senseless', 'things!', 'o', 'you', 'hard', 'hearts,', 'you', 'cruel', 'men', 'of', 'rome,', 'knew', 'you', 'not', 'pompey?', 'many', 'a', 'time', 'and', 'oft', 'have', 'you', 'climbâ€™d', 'up', 'to', 'walls', 'and', 'battlements,', 'to', 'towers', 'and', 'windows,', 'yea,', 'to', 'chimney', 'tops,', 'your', 'infants', 'in', 'your', 'arms,', 'and', 'there', 'have', 'sat', 'the', 'livelong', 'day', 'with', 'patient', 'expectation,', 'to', 'see', 'great', 'pompey', 'pass', 'the', 'streets', 'of', 'rome.', 'and', 'when', 'you', 'saw', 'his', 'chariot', 'but', 'appear,', 'have', 'you', 'not', 'made', 'an', 'universal', 'shout,', 'that', 'tiber', 'trembled', 'underneath', 'her', 'banks', 'to', 'hear', 'the', 'replication', 'of', 'your', 'sounds', 'made', 'in', 'her', 'concave', 'shores?', 'and', 'do', 'you', 'now', 'put', 'on', 'your', 'best', 'attire?', 'and', 'do', 'you', 'now', 'cull', 'out', 'a', 'holiday?', 'and', 'do', 'you', 'now', 'strew', 'flowers', 'in', 'his', 'way,', 'that', 'comes', 'in', 'triumph', 'over', 'pompeyâ€™s', 'blood?', 'be', 'gone!', 'run', 'to', 'your', 'houses,', 'fall', 'upon', 'your', 'knees,', 'pray', 'to', 'the', 'gods', 'to', 'intermit', 'the', 'plague', 'that', 'needs', 'must', 'light', 'on', 'this', 'ingratitude.', 'flavius.', 'go,', 'go,', 'good', 'countrymen,', 'and,', 'for', 'this', 'fault', 'assemble', 'all', 'the', 'poor', 'men', 'of', 'your', 'sort,', 'draw', 'them', 'to', 'tiber', 'banks,', 'and', 'weep', 'your', 'tears', 'into', 'the', 'channel,', 'till', 'the', 'lowest', 'stream', 'do', 'kiss', 'the', 'most', 'exalted', 'shores', 'of', 'all.', '[_exeunt', 'citizens._]', 'see', 'whether', 'their', 'basest', 'metal', 'be', 'not', 'movâ€™d;', 'they', 'vanish', 'tongue-tied', 'in', 'their', 'guiltiness.', 'go', 'you', 'down', 'that', 'way', 'towards', 'the', 'capitol;', 'this', 'way', 'will', 'i.', 'disrobe', 'the', 'images,', 'if', 'you', 'do', 'find', 'them', 'deckâ€™d', 'with', 'ceremonies.', 'marullus.', 'may', 'we', 'do', 'so?', 'you', 'know', 'it', 'is', 'the', 'feast', 'of', 'lupercal.', 'flavius.', 'it', 'is', 'no', 'matter;', 'let', 'no', 'images', 'be', 'hung', 'with', 'caesarâ€™s', 'trophies.', 'iâ€™ll', 'about', 'and', 'drive', 'away', 'the', 'vulgar', 'from', 'the', 'streets;', 'so', 'do', 'you', 'too,', 'where', 'you', 'perceive', 'them', 'thick.', 'these', 'growing', 'feathers', 'pluckâ€™d', 'from', 'caesarâ€™s', 'wing', 'will', 'make', 'him', 'fly', 'an', 'ordinary', 'pitch,', 'who', 'else', 'would', 'soar', 'above', 'the', 'view', 'of', 'men,', 'and', 'keep', 'us', 'all', 'in', 'servile', 'fearfulness.', '[_exeunt._]', 'scene', 'ii.', 'the', 'same.', 'a', 'public', 'place.', 'enter,', 'in', 'procession,', 'with', 'music,', 'caesar;', 'antony,', 'for', 'the', 'course;', 'calphurnia,', 'portia,', 'decius,', 'cicero,', 'brutus,', 'cassius', 'and', 'casca;', 'a', 'great', 'crowd', 'following,', 'among', 'them', 'a', 'soothsayer.', 'caesar.', 'calphurnia.', 'casca.', 'peace,', 'ho!', 'caesar', 'speaks.', '[_music', 'ceases._]', 'caesar.', 'calphurnia.', 'calphurnia.', 'here,', 'my', 'lord.', 'caesar.', 'stand', 'you', 'directly', 'in', 'antoniusâ€™', 'way,', 'when', 'he', 'doth', 'run', 'his', 'course.', 'antonius.', 'antony.', 'caesar,', 'my', 'lord?', 'caesar.', 'forget', 'not', 'in', 'your', 'speed,', 'antonius,', 'to', 'touch', 'calphurnia;', 'for', 'our', 'elders', 'say,', 'the', 'barren,', 'touched', 'in', 'this', 'holy', 'chase,', 'shake', 'off', 'their', 'sterile', 'curse.', 'antony.', 'i', 'shall', 'remember.']\n"
          ]
        }
      ]
    },
    {
      "cell_type": "markdown",
      "metadata": {
        "id": "2ScIB5ykqc5M"
      },
      "source": [
        "## Data Structures\n",
        "\n",
        "![](https://github.com/univai-pyprep-c1/BasicPython/raw/9a66b164175e3032fb88db4112754c1cb07ac4d8//data_structures.slides.dir/6.png)\n",
        "\n",
        "### Dictionaries\n",
        "\n",
        "A \"bag\" of **value**s, each with its own label, called a **key**. The 'most powerful' data collection type,and one I suspect you will find yourself using a lot!\n",
        "\n",
        "A dictionary is similar to a list, and you can iterate over it but:\n",
        "\n",
        "- the order of items doesn't matter (use an OrderedDict for this)\n",
        "- they aren't selected by an index such as 0 or 5.\n",
        "\n",
        "Instead, a unique 'key' is associated with each 'value' . The 'key' can be any **immutable data type**: boolean, float, int, tuple, string (but it is often a string)\n",
        "\n",
        "Dictionaries themselves are \"Mutable\" (the values can be changed)."
      ]
    },
    {
      "cell_type": "code",
      "metadata": {
        "colab": {
          "base_uri": "https://localhost:8080/"
        },
        "id": "QPBdWy84qsFl",
        "outputId": "06fff31c-dfcc-46de-9401-94cab24e739e"
      },
      "source": [
        "# Creating a dictionary:\n",
        "# 1. Using {}\n",
        "empty_dict = {} \n",
        "print (type(empty_dict))\n",
        "new_dict = { \"day\":5, \"venue\": \"GJB\", \"event\": \"Python Carnival!\" }\n",
        "print(new_dict)"
      ],
      "execution_count": null,
      "outputs": [
        {
          "output_type": "stream",
          "name": "stdout",
          "text": [
            "<class 'dict'>\n",
            "{'day': 5, 'venue': 'GJB', 'event': 'Python Carnival!'}\n"
          ]
        }
      ]
    },
    {
      "cell_type": "code",
      "metadata": {
        "colab": {
          "base_uri": "https://localhost:8080/"
        },
        "id": "m2iT93clrDiM",
        "outputId": "d7d8713d-006b-4b85-ca5f-c9cb9927fe93"
      },
      "source": [
        "#2. Using dict()\n",
        "purse = dict(type=\"wallet\", material=\"leather\")\n",
        "purse"
      ],
      "execution_count": null,
      "outputs": [
        {
          "output_type": "execute_result",
          "data": {
            "text/plain": [
              "{'material': 'leather', 'type': 'wallet'}"
            ]
          },
          "metadata": {},
          "execution_count": 49
        }
      ]
    },
    {
      "cell_type": "markdown",
      "metadata": {
        "id": "GzH2VuEqry-o"
      },
      "source": [
        "Getting and Setting"
      ]
    },
    {
      "cell_type": "code",
      "metadata": {
        "colab": {
          "base_uri": "https://localhost:8080/",
          "height": 37
        },
        "id": "hUPBbJTgr2JY",
        "outputId": "768b237d-ce69-4290-b236-d4af69251d77"
      },
      "source": [
        "purse['type']"
      ],
      "execution_count": null,
      "outputs": [
        {
          "output_type": "execute_result",
          "data": {
            "application/vnd.google.colaboratory.intrinsic+json": {
              "type": "string"
            },
            "text/plain": [
              "'wallet'"
            ]
          },
          "metadata": {},
          "execution_count": 53
        }
      ]
    },
    {
      "cell_type": "code",
      "metadata": {
        "colab": {
          "base_uri": "https://localhost:8080/"
        },
        "id": "IP3h7K8prF6T",
        "outputId": "2fc69c07-e80b-4760-a494-019f5f1a5f5b"
      },
      "source": [
        "purse['make'] = \"Versace\"\n",
        "purse"
      ],
      "execution_count": null,
      "outputs": [
        {
          "output_type": "execute_result",
          "data": {
            "text/plain": [
              "{'make': 'Versace', 'material': 'leather', 'type': 'wallet'}"
            ]
          },
          "metadata": {},
          "execution_count": 50
        }
      ]
    },
    {
      "cell_type": "markdown",
      "metadata": {
        "id": "SRhZOP7DrWej"
      },
      "source": [
        "Dictionaries are listy:"
      ]
    },
    {
      "cell_type": "code",
      "metadata": {
        "colab": {
          "base_uri": "https://localhost:8080/"
        },
        "id": "2ar0OaDsrIGW",
        "outputId": "35486cc4-4447-46b8-b9a7-07afcd151a5f"
      },
      "source": [
        "for key in new_dict:\n",
        "    print(key, \":\", new_dict[key])"
      ],
      "execution_count": null,
      "outputs": [
        {
          "output_type": "stream",
          "name": "stdout",
          "text": [
            "day : 5\n",
            "venue : GJB\n",
            "event : Python Carnival!\n"
          ]
        }
      ]
    },
    {
      "cell_type": "code",
      "metadata": {
        "colab": {
          "base_uri": "https://localhost:8080/"
        },
        "id": "jcHoVQgBrZek",
        "outputId": "25af3d7d-35dc-4fd5-b14c-68f3675cdda6"
      },
      "source": [
        "for key, value in new_dict.items():\n",
        "    print(key, \";\", value)"
      ],
      "execution_count": null,
      "outputs": [
        {
          "output_type": "stream",
          "name": "stdout",
          "text": [
            "day ; 5\n",
            "venue ; GJB\n",
            "event ; Python Carnival!\n"
          ]
        }
      ]
    },
    {
      "cell_type": "markdown",
      "metadata": {
        "id": "bdapLUbwrgmw"
      },
      "source": [
        "![](https://github.com/univai-pyprep-c1/BasicPython/raw/9a66b164175e3032fb88db4112754c1cb07ac4d8//data_structures.slides.dir/5.png)\n",
        "\n",
        "Dictionaries can also be constructed using **dictionary comprehensions**"
      ]
    },
    {
      "cell_type": "code",
      "metadata": {
        "colab": {
          "base_uri": "https://localhost:8080/"
        },
        "id": "sqBWTKv4rnRq",
        "outputId": "345ea178-ac81-44d9-d06a-b9d40bb39ab6"
      },
      "source": [
        "# Using Dictionary comprehensions to create an output dictionary which contains only the odd numbers that are present in the input list as keys and their cubes as values\n",
        "  \n",
        "input_list = [1,2,3,4,5,6,7] \n",
        "dict_using_comp = {var:var ** 3 for var in input_list if var % 2 != 0} \n",
        "  \n",
        "print(\"Output Dictionary using dictionary comprehensions:\", dict_using_comp)"
      ],
      "execution_count": null,
      "outputs": [
        {
          "output_type": "stream",
          "name": "stdout",
          "text": [
            "Output Dictionary using dictionary comprehensions: {1: 1, 3: 27, 5: 125, 7: 343}\n"
          ]
        }
      ]
    },
    {
      "cell_type": "markdown",
      "metadata": {
        "id": "T-RldtacsFke"
      },
      "source": [
        "## Classes\n",
        "\n",
        "Python is an object oriented programming language. It allows you to manipulate objects and functions belonging to them, also called methods\n",
        "\n",
        "An Object is an instance of a Class. A class is like a blueprint while an instance is a copy of the class with actual values.\n",
        "\n",
        "An object consists of :\n",
        "\n",
        "State : represented by *attributes* of an object.\n",
        "\n",
        "Behavior : represented by *methods* of an object.\n",
        "\n",
        "Identity : a unique name is given to an object and enables one object to interact with other objects."
      ]
    },
    {
      "cell_type": "code",
      "metadata": {
        "id": "ugcxf-BPsw5B"
      },
      "source": [
        "class MyClass:\n",
        "    pass"
      ],
      "execution_count": null,
      "outputs": []
    },
    {
      "cell_type": "markdown",
      "metadata": {
        "id": "Udj0SIxws3Z2"
      },
      "source": [
        "The pass statement, which can be used for function bodies as well, just says that you are not going to be doing any more implementation.\n",
        "\n",
        "Now we can use the class named MyClass to create objects:"
      ]
    },
    {
      "cell_type": "code",
      "metadata": {
        "colab": {
          "base_uri": "https://localhost:8080/"
        },
        "id": "lNhpXeF0s2vf",
        "outputId": "868ff185-e794-4f1a-c3ea-c29402f758fd"
      },
      "source": [
        "# Create an object named p1, and print the value of x:\n",
        "\n",
        "p1 = MyClass()\n",
        "p1.x = 5 # x was never defined earlier\n",
        "print(p1.x)"
      ],
      "execution_count": null,
      "outputs": [
        {
          "output_type": "stream",
          "name": "stdout",
          "text": [
            "5\n"
          ]
        }
      ]
    },
    {
      "cell_type": "markdown",
      "metadata": {
        "id": "MZ_KIScps-ni"
      },
      "source": [
        "### Init Function or Constructor\n",
        "\n",
        "To understand the meaning of classes we have to understand the built-in `__init__()` function.\n",
        "\n",
        "All classes have a function called `__init__()`, which is always executed when the class is being initiated.\n",
        "\n",
        "Use the `__init__()` function to assign values to object properties, or other operations that are necessary to do when the object is being created:\n",
        "\n",
        "As we saw earlier, we can assign object properties outside of `__init__`, but it is good practice, and good documentation, to set up default values in a constructor.\n",
        "\n",
        "The `__init__()` function is called automatically every time the class is being used to create a new object."
      ]
    },
    {
      "cell_type": "code",
      "metadata": {
        "colab": {
          "base_uri": "https://localhost:8080/"
        },
        "id": "OxgHg5L3tK2g",
        "outputId": "56163d8a-35fe-4667-f55c-64860c62cc76"
      },
      "source": [
        "# Create a class named Person, use the __init__() function to assign values for name and age:\n",
        "\n",
        "class Person:\n",
        "    def __init__(self, name, age):\n",
        "        self.name = name\n",
        "        self.age = age\n",
        "\n",
        "p1 = Person(\"Bruce Wayne\", 32) # __init__ runs here\n",
        "\n",
        "print(p1.name)\n",
        "print(p1.age)"
      ],
      "execution_count": null,
      "outputs": [
        {
          "output_type": "stream",
          "name": "stdout",
          "text": [
            "Bruce Wayne\n",
            "32\n"
          ]
        }
      ]
    },
    {
      "cell_type": "markdown",
      "metadata": {
        "id": "D-OrL9YytZ1y"
      },
      "source": [
        "### Object Methods\n",
        "\n",
        "Objects can also contain methods. Methods in objects are functions that belong to the object.\n",
        "\n",
        "Let us create a method in the Person class:"
      ]
    },
    {
      "cell_type": "code",
      "metadata": {
        "colab": {
          "base_uri": "https://localhost:8080/"
        },
        "id": "hG9EWtqNtNZh",
        "outputId": "036a826c-04c6-4e76-e23e-a6a53957f02d"
      },
      "source": [
        "#Insert a function that prints a greeting, and execute it on the p1 object:\n",
        "\n",
        "class Person:\n",
        "    def __init__(self, name, age):\n",
        "        self.name = name\n",
        "        self.age = age\n",
        "\n",
        "    def myfunc(self):\n",
        "        print(\"Hello my name is \" + self.name)\n",
        "\n",
        "p1 = Person(\"Bruce Wayne\", 32)\n",
        "p1.myfunc()"
      ],
      "execution_count": null,
      "outputs": [
        {
          "output_type": "stream",
          "name": "stdout",
          "text": [
            "Hello my name is Bruce Wayne\n"
          ]
        }
      ]
    },
    {
      "cell_type": "markdown",
      "metadata": {
        "id": "mq8kXlveterl"
      },
      "source": [
        "### The self Parameter\n",
        "\n",
        "The self parameter is a reference to the current instance of the class, and is used to access variables that belongs to the class.\n",
        "\n",
        "It does not have to be named self (but this is a convention in all python code so stick to it), you can call it whatever you like, but it has to be the first parameter of any method in the class."
      ]
    },
    {
      "cell_type": "markdown",
      "metadata": {
        "id": "2kR21EErtqB1"
      },
      "source": [
        "## EXERCISE 3: Count words in Julius Caesar and make a text based histogram\n",
        "\n",
        "Building on Exercise 2, using lowercase words, lets make a histogram. Create a dictionary `worddict`, that has the counts of all the words in Caesar."
      ]
    },
    {
      "cell_type": "code",
      "metadata": {
        "id": "VnmYMRmruMxF"
      },
      "source": [
        "# your code here\n",
        "## Read a file, parse lines, and get all UNIQUE words\n",
        "\n",
        "worddict = dict() # make a set with unique items  \n",
        "fd = open(\"data/Julius Caesar.txt\")\n",
        "lines = fd.readlines()\n",
        "fd.close()\n",
        "# strip newline characters and other whitespace off the edges\n",
        "cleaned_lines = [line.strip() for line in lines] \n",
        "# make a list of lists. \n",
        "# each inner list if the list of words on that line\n",
        "list_of_lines_words = [line.split() for line in lines]\n",
        "# Take each list of words, and get all the words\n",
        "for lines_words in list_of_lines_words:\n",
        "    lines_words_lower = [l.lower() for l in lines_words]\n",
        "    for word in lines_words_lower:\n",
        "        if not word in worddict:\n",
        "            worddict[word] = 1\n",
        "        else:\n",
        "            worddict[word] += 1"
      ],
      "execution_count": null,
      "outputs": []
    },
    {
      "cell_type": "markdown",
      "metadata": {
        "id": "Uy_MRxWkuU1J"
      },
      "source": [
        "Now here is where the iterative nature of dictionaries can be used to our benefit. We sort the `worddict`, using the function `worddict.get` to provide the values, which are the counts."
      ]
    },
    {
      "cell_type": "code",
      "metadata": {
        "id": "JBOTasUtuP39"
      },
      "source": [
        "topwords = sorted(worddict, key = worddict.get, reverse=True)"
      ],
      "execution_count": null,
      "outputs": []
    },
    {
      "cell_type": "code",
      "metadata": {
        "colab": {
          "base_uri": "https://localhost:8080/"
        },
        "id": "cCNmClLpubQU",
        "outputId": "98cd9f41-1c0a-4a9a-80b9-00205997f5dc"
      },
      "source": [
        "for word in topwords[:20]:\n",
        "    print(word, worddict[word])"
      ],
      "execution_count": null,
      "outputs": [
        {
          "output_type": "stream",
          "name": "stdout",
          "text": [
            "the 629\n",
            "and 627\n",
            "i 499\n",
            "to 422\n",
            "of 374\n",
            "you 312\n",
            "a 275\n",
            "that 269\n",
            "is 236\n",
            "in 228\n",
            "brutus. 215\n",
            "not 207\n",
            "my 189\n",
            "he 185\n",
            "for 168\n",
            "his 157\n",
            "with 156\n",
            "it 153\n",
            "cassius. 150\n",
            "be 144\n"
          ]
        }
      ]
    },
    {
      "cell_type": "markdown",
      "metadata": {
        "id": "YJUMrJC3ugns"
      },
      "source": [
        "You can even make a hacky histogram for this by creating a '#' for every 10 occurences"
      ]
    },
    {
      "cell_type": "code",
      "metadata": {
        "colab": {
          "base_uri": "https://localhost:8080/"
        },
        "id": "LWh43whCudO_",
        "outputId": "5afc090d-2f10-4975-b529-5ceb9079eb8b"
      },
      "source": [
        "for word in topwords[:20]:\n",
        "    print(word+(20 - len(word))*' ', (worddict[word]//10)*'*')"
      ],
      "execution_count": null,
      "outputs": [
        {
          "output_type": "stream",
          "name": "stdout",
          "text": [
            "the                  **************************************************************\n",
            "and                  **************************************************************\n",
            "i                    *************************************************\n",
            "to                   ******************************************\n",
            "of                   *************************************\n",
            "you                  *******************************\n",
            "a                    ***************************\n",
            "that                 **************************\n",
            "is                   ***********************\n",
            "in                   **********************\n",
            "brutus.              *********************\n",
            "not                  ********************\n",
            "my                   ******************\n",
            "he                   ******************\n",
            "for                  ****************\n",
            "his                  ***************\n",
            "with                 ***************\n",
            "it                   ***************\n",
            "cassius.             ***************\n",
            "be                   **************\n"
          ]
        }
      ]
    }
  ]
}